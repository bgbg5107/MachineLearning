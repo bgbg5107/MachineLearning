{
 "cells": [
  {
   "cell_type": "code",
   "execution_count": 41,
   "id": "6fe00dcc",
   "metadata": {},
   "outputs": [],
   "source": [
    "import pandas as pd\n",
    "from sklearn.preprocessing import OneHotEncoder\n",
    "from sklearn.compose import make_column_transformer\n",
    "from sklearn.preprocessing import LabelEncoder\n",
    "from sklearn.linear_model import LogisticRegression\n",
    "from sklearn.neighbors import KNeighborsClassifier\n",
    "from sklearn.tree import DecisionTreeClassifier\n",
    "from sklearn.ensemble import VotingClassifier\n",
    "import numpy as np"
   ]
  },
  {
   "cell_type": "code",
   "execution_count": 42,
   "id": "c2379285",
   "metadata": {},
   "outputs": [],
   "source": [
    "x_train = pd.read_csv('bank_x_train.csv')\n",
    "y_train = pd.read_csv('bank_y_train.csv')\n",
    "x_test = pd.read_csv('bank_x_test.csv')\n",
    "y_test = pd.read_csv('bank_y_test.csv')"
   ]
  },
  {
   "cell_type": "code",
   "execution_count": 43,
   "id": "a40e4676",
   "metadata": {},
   "outputs": [],
   "source": [
    "# 불필요한 컬럼삭제\n",
    "del x_train['Unnamed: 0']\n",
    "del y_train['Unnamed: 0']\n",
    "del x_test['Unnamed: 0']\n",
    "del y_test['Unnamed: 0']"
   ]
  },
  {
   "cell_type": "code",
   "execution_count": 44,
   "id": "a5821d37",
   "metadata": {},
   "outputs": [
    {
     "data": {
      "text/html": [
       "<div>\n",
       "<style scoped>\n",
       "    .dataframe tbody tr th:only-of-type {\n",
       "        vertical-align: middle;\n",
       "    }\n",
       "\n",
       "    .dataframe tbody tr th {\n",
       "        vertical-align: top;\n",
       "    }\n",
       "\n",
       "    .dataframe thead th {\n",
       "        text-align: right;\n",
       "    }\n",
       "</style>\n",
       "<table border=\"1\" class=\"dataframe\">\n",
       "  <thead>\n",
       "    <tr style=\"text-align: right;\">\n",
       "      <th></th>\n",
       "      <th>Loan_ID</th>\n",
       "      <th>Gender</th>\n",
       "      <th>Married</th>\n",
       "      <th>Dependents</th>\n",
       "      <th>Education</th>\n",
       "      <th>Self_Employed</th>\n",
       "      <th>ApplicantIncome</th>\n",
       "      <th>CoapplicantIncome</th>\n",
       "      <th>LoanAmount</th>\n",
       "      <th>Loan_Amount_Term</th>\n",
       "      <th>Credit_History</th>\n",
       "      <th>Property_Area</th>\n",
       "    </tr>\n",
       "  </thead>\n",
       "  <tbody>\n",
       "    <tr>\n",
       "      <th>0</th>\n",
       "      <td>LP001032</td>\n",
       "      <td>Male</td>\n",
       "      <td>No</td>\n",
       "      <td>0</td>\n",
       "      <td>Graduate</td>\n",
       "      <td>No</td>\n",
       "      <td>4950</td>\n",
       "      <td>0.0</td>\n",
       "      <td>125</td>\n",
       "      <td>360</td>\n",
       "      <td>1</td>\n",
       "      <td>Urban</td>\n",
       "    </tr>\n",
       "    <tr>\n",
       "      <th>1</th>\n",
       "      <td>LP001824</td>\n",
       "      <td>Male</td>\n",
       "      <td>Yes</td>\n",
       "      <td>1</td>\n",
       "      <td>Graduate</td>\n",
       "      <td>No</td>\n",
       "      <td>2882</td>\n",
       "      <td>1843.0</td>\n",
       "      <td>123</td>\n",
       "      <td>480</td>\n",
       "      <td>1</td>\n",
       "      <td>Semiurban</td>\n",
       "    </tr>\n",
       "    <tr>\n",
       "      <th>2</th>\n",
       "      <td>LP002928</td>\n",
       "      <td>Male</td>\n",
       "      <td>Yes</td>\n",
       "      <td>0</td>\n",
       "      <td>Graduate</td>\n",
       "      <td>No</td>\n",
       "      <td>3000</td>\n",
       "      <td>3416.0</td>\n",
       "      <td>56</td>\n",
       "      <td>180</td>\n",
       "      <td>1</td>\n",
       "      <td>Semiurban</td>\n",
       "    </tr>\n",
       "    <tr>\n",
       "      <th>3</th>\n",
       "      <td>LP001814</td>\n",
       "      <td>Male</td>\n",
       "      <td>Yes</td>\n",
       "      <td>2</td>\n",
       "      <td>Graduate</td>\n",
       "      <td>No</td>\n",
       "      <td>9703</td>\n",
       "      <td>0.0</td>\n",
       "      <td>112</td>\n",
       "      <td>360</td>\n",
       "      <td>1</td>\n",
       "      <td>Urban</td>\n",
       "    </tr>\n",
       "    <tr>\n",
       "      <th>4</th>\n",
       "      <td>LP002244</td>\n",
       "      <td>Male</td>\n",
       "      <td>Yes</td>\n",
       "      <td>0</td>\n",
       "      <td>Graduate</td>\n",
       "      <td>No</td>\n",
       "      <td>2333</td>\n",
       "      <td>2417.0</td>\n",
       "      <td>136</td>\n",
       "      <td>360</td>\n",
       "      <td>1</td>\n",
       "      <td>Urban</td>\n",
       "    </tr>\n",
       "    <tr>\n",
       "      <th>...</th>\n",
       "      <td>...</td>\n",
       "      <td>...</td>\n",
       "      <td>...</td>\n",
       "      <td>...</td>\n",
       "      <td>...</td>\n",
       "      <td>...</td>\n",
       "      <td>...</td>\n",
       "      <td>...</td>\n",
       "      <td>...</td>\n",
       "      <td>...</td>\n",
       "      <td>...</td>\n",
       "      <td>...</td>\n",
       "    </tr>\n",
       "    <tr>\n",
       "      <th>379</th>\n",
       "      <td>LP002585</td>\n",
       "      <td>Male</td>\n",
       "      <td>Yes</td>\n",
       "      <td>0</td>\n",
       "      <td>Graduate</td>\n",
       "      <td>No</td>\n",
       "      <td>3597</td>\n",
       "      <td>2157.0</td>\n",
       "      <td>119</td>\n",
       "      <td>360</td>\n",
       "      <td>0</td>\n",
       "      <td>Rural</td>\n",
       "    </tr>\n",
       "    <tr>\n",
       "      <th>380</th>\n",
       "      <td>LP001841</td>\n",
       "      <td>Male</td>\n",
       "      <td>No</td>\n",
       "      <td>0</td>\n",
       "      <td>Not Graduate</td>\n",
       "      <td>Yes</td>\n",
       "      <td>2583</td>\n",
       "      <td>2167.0</td>\n",
       "      <td>104</td>\n",
       "      <td>360</td>\n",
       "      <td>1</td>\n",
       "      <td>Rural</td>\n",
       "    </tr>\n",
       "    <tr>\n",
       "      <th>381</th>\n",
       "      <td>LP002820</td>\n",
       "      <td>Male</td>\n",
       "      <td>Yes</td>\n",
       "      <td>0</td>\n",
       "      <td>Graduate</td>\n",
       "      <td>No</td>\n",
       "      <td>5923</td>\n",
       "      <td>2054.0</td>\n",
       "      <td>211</td>\n",
       "      <td>360</td>\n",
       "      <td>1</td>\n",
       "      <td>Rural</td>\n",
       "    </tr>\n",
       "    <tr>\n",
       "      <th>382</th>\n",
       "      <td>LP001744</td>\n",
       "      <td>Male</td>\n",
       "      <td>No</td>\n",
       "      <td>0</td>\n",
       "      <td>Graduate</td>\n",
       "      <td>No</td>\n",
       "      <td>2971</td>\n",
       "      <td>2791.0</td>\n",
       "      <td>144</td>\n",
       "      <td>360</td>\n",
       "      <td>1</td>\n",
       "      <td>Semiurban</td>\n",
       "    </tr>\n",
       "    <tr>\n",
       "      <th>383</th>\n",
       "      <td>LP001552</td>\n",
       "      <td>Male</td>\n",
       "      <td>Yes</td>\n",
       "      <td>0</td>\n",
       "      <td>Graduate</td>\n",
       "      <td>No</td>\n",
       "      <td>4583</td>\n",
       "      <td>5625.0</td>\n",
       "      <td>255</td>\n",
       "      <td>360</td>\n",
       "      <td>1</td>\n",
       "      <td>Semiurban</td>\n",
       "    </tr>\n",
       "  </tbody>\n",
       "</table>\n",
       "<p>384 rows × 12 columns</p>\n",
       "</div>"
      ],
      "text/plain": [
       "      Loan_ID Gender Married Dependents     Education Self_Employed  \\\n",
       "0    LP001032   Male      No          0      Graduate            No   \n",
       "1    LP001824   Male     Yes          1      Graduate            No   \n",
       "2    LP002928   Male     Yes          0      Graduate            No   \n",
       "3    LP001814   Male     Yes          2      Graduate            No   \n",
       "4    LP002244   Male     Yes          0      Graduate            No   \n",
       "..        ...    ...     ...        ...           ...           ...   \n",
       "379  LP002585   Male     Yes          0      Graduate            No   \n",
       "380  LP001841   Male      No          0  Not Graduate           Yes   \n",
       "381  LP002820   Male     Yes          0      Graduate            No   \n",
       "382  LP001744   Male      No          0      Graduate            No   \n",
       "383  LP001552   Male     Yes          0      Graduate            No   \n",
       "\n",
       "     ApplicantIncome  CoapplicantIncome  LoanAmount  Loan_Amount_Term  \\\n",
       "0               4950                0.0         125               360   \n",
       "1               2882             1843.0         123               480   \n",
       "2               3000             3416.0          56               180   \n",
       "3               9703                0.0         112               360   \n",
       "4               2333             2417.0         136               360   \n",
       "..               ...                ...         ...               ...   \n",
       "379             3597             2157.0         119               360   \n",
       "380             2583             2167.0         104               360   \n",
       "381             5923             2054.0         211               360   \n",
       "382             2971             2791.0         144               360   \n",
       "383             4583             5625.0         255               360   \n",
       "\n",
       "     Credit_History Property_Area  \n",
       "0                 1         Urban  \n",
       "1                 1     Semiurban  \n",
       "2                 1     Semiurban  \n",
       "3                 1         Urban  \n",
       "4                 1         Urban  \n",
       "..              ...           ...  \n",
       "379               0         Rural  \n",
       "380               1         Rural  \n",
       "381               1         Rural  \n",
       "382               1     Semiurban  \n",
       "383               1     Semiurban  \n",
       "\n",
       "[384 rows x 12 columns]"
      ]
     },
     "execution_count": 44,
     "metadata": {},
     "output_type": "execute_result"
    }
   ],
   "source": [
    "x_train"
   ]
  },
  {
   "cell_type": "code",
   "execution_count": 45,
   "id": "23179b00",
   "metadata": {},
   "outputs": [],
   "source": [
    "x_train = x_train.drop(['Loan_ID'], axis=1)\n",
    "x_test = x_test.drop(['Loan_ID'],axis=1)"
   ]
  },
  {
   "cell_type": "markdown",
   "id": "0dc72a6e",
   "metadata": {},
   "source": [
    "### 원핫인코딩"
   ]
  },
  {
   "cell_type": "code",
   "execution_count": 46,
   "id": "7ed73305",
   "metadata": {},
   "outputs": [],
   "source": [
    "transformer = make_column_transformer((OneHotEncoder(), ['Gender','Married','Dependents','Education','Self_Employed', 'Property_Area']), remainder='passthrough')"
   ]
  },
  {
   "cell_type": "code",
   "execution_count": 47,
   "id": "99a6162e",
   "metadata": {},
   "outputs": [
    {
     "data": {
      "text/plain": [
       "ColumnTransformer(remainder='passthrough',\n",
       "                  transformers=[('onehotencoder', OneHotEncoder(),\n",
       "                                 ['Gender', 'Married', 'Dependents',\n",
       "                                  'Education', 'Self_Employed',\n",
       "                                  'Property_Area'])])"
      ]
     },
     "execution_count": 47,
     "metadata": {},
     "output_type": "execute_result"
    }
   ],
   "source": [
    "transformer.fit(x_train)"
   ]
  },
  {
   "cell_type": "code",
   "execution_count": 48,
   "id": "0cbc8bb8",
   "metadata": {},
   "outputs": [],
   "source": [
    "x_train = transformer.transform(x_train)\n",
    "x_test = transformer.transform(x_test)"
   ]
  },
  {
   "cell_type": "markdown",
   "id": "f2f5c3fe",
   "metadata": {},
   "source": [
    "### 레이블 인코딩"
   ]
  },
  {
   "cell_type": "code",
   "execution_count": 49,
   "id": "8e4bbecb",
   "metadata": {},
   "outputs": [],
   "source": [
    "le = LabelEncoder()"
   ]
  },
  {
   "cell_type": "code",
   "execution_count": 50,
   "id": "e26a8e93",
   "metadata": {},
   "outputs": [
    {
     "name": "stderr",
     "output_type": "stream",
     "text": [
      "C:\\Users\\user\\anaconda3\\lib\\site-packages\\sklearn\\preprocessing\\_label.py:98: DataConversionWarning: A column-vector y was passed when a 1d array was expected. Please change the shape of y to (n_samples, ), for example using ravel().\n",
      "  y = column_or_1d(y, warn=True)\n"
     ]
    },
    {
     "data": {
      "text/plain": [
       "LabelEncoder()"
      ]
     },
     "execution_count": 50,
     "metadata": {},
     "output_type": "execute_result"
    }
   ],
   "source": [
    "le.fit(y_train)"
   ]
  },
  {
   "cell_type": "code",
   "execution_count": 51,
   "id": "a743f9b1",
   "metadata": {},
   "outputs": [],
   "source": [
    "labels = ['비승인','승인']"
   ]
  },
  {
   "cell_type": "code",
   "execution_count": 52,
   "id": "da9ce9f6",
   "metadata": {},
   "outputs": [
    {
     "name": "stderr",
     "output_type": "stream",
     "text": [
      "C:\\Users\\user\\anaconda3\\lib\\site-packages\\sklearn\\preprocessing\\_label.py:133: DataConversionWarning: A column-vector y was passed when a 1d array was expected. Please change the shape of y to (n_samples, ), for example using ravel().\n",
      "  y = column_or_1d(y, warn=True)\n"
     ]
    }
   ],
   "source": [
    "y_train = le.transform(y_train)\n",
    "y_test = le.transform(y_test)"
   ]
  },
  {
   "cell_type": "code",
   "execution_count": 55,
   "id": "d126a39d",
   "metadata": {},
   "outputs": [
    {
     "data": {
      "text/plain": [
       "array([[  0.,   1.,   1., ..., 125., 360.,   1.],\n",
       "       [  0.,   1.,   0., ..., 123., 480.,   1.],\n",
       "       [  0.,   1.,   0., ...,  56., 180.,   1.],\n",
       "       ...,\n",
       "       [  0.,   1.,   0., ..., 211., 360.,   1.],\n",
       "       [  0.,   1.,   1., ..., 144., 360.,   1.],\n",
       "       [  0.,   1.,   0., ..., 255., 360.,   1.]])"
      ]
     },
     "execution_count": 55,
     "metadata": {},
     "output_type": "execute_result"
    }
   ],
   "source": [
    "x_train"
   ]
  },
  {
   "cell_type": "code",
   "execution_count": 56,
   "id": "528c31d1",
   "metadata": {
    "scrolled": true
   },
   "outputs": [
    {
     "data": {
      "text/plain": [
       "array([0, 1, 1, 1, 1, 0, 1, 0, 1, 1, 0, 1, 1, 0, 1, 1, 1, 1, 1, 1, 0, 1,\n",
       "       1, 0, 0, 0, 0, 1, 1, 1, 1, 1, 0, 1, 0, 0, 1, 1, 0, 1, 0, 0, 0, 1,\n",
       "       1, 1, 1, 1, 1, 1, 1, 0, 1, 1, 1, 1, 1, 1, 0, 1, 1, 0, 0, 1, 1, 0,\n",
       "       0, 0, 0, 1, 1, 1, 0, 0, 0, 0, 1, 1, 0, 1, 1, 1, 0, 1, 0, 1, 1, 0,\n",
       "       1, 0, 0, 1, 1, 1, 1, 1])"
      ]
     },
     "execution_count": 56,
     "metadata": {},
     "output_type": "execute_result"
    }
   ],
   "source": [
    "y_test"
   ]
  },
  {
   "cell_type": "markdown",
   "id": "c49fae8f",
   "metadata": {},
   "source": [
    "### EDA"
   ]
  },
  {
   "cell_type": "markdown",
   "id": "2bf2c8f7",
   "metadata": {},
   "source": [
    "### 5-7 모델링(모델학습, 예측, 평가)"
   ]
  },
  {
   "cell_type": "code",
   "execution_count": 57,
   "id": "7184cff2",
   "metadata": {},
   "outputs": [],
   "source": [
    "model = VotingClassifier(estimators = [('lr', LogisticRegression()), #estimators:하이퍼파라미터, 어떤 모델쓸지 불러오고, 디폴트값은 하드보팅임\n",
    "                                       ('kn', KNeighborsClassifier()),\n",
    "                                       ('dt', DecisionTreeClassifier())])"
   ]
  },
  {
   "cell_type": "code",
   "execution_count": 58,
   "id": "f456ccb5",
   "metadata": {},
   "outputs": [
    {
     "data": {
      "text/plain": [
       "VotingClassifier(estimators=[('lr', LogisticRegression()),\n",
       "                             ('kn', KNeighborsClassifier()),\n",
       "                             ('dt', DecisionTreeClassifier())])"
      ]
     },
     "execution_count": 58,
     "metadata": {},
     "output_type": "execute_result"
    }
   ],
   "source": [
    "model.fit(x_train, y_train)"
   ]
  },
  {
   "cell_type": "code",
   "execution_count": 59,
   "id": "2754b238",
   "metadata": {},
   "outputs": [
    {
     "data": {
      "text/plain": [
       "0.8932291666666666"
      ]
     },
     "execution_count": 59,
     "metadata": {},
     "output_type": "execute_result"
    }
   ],
   "source": [
    "model.score(x_train, y_train)"
   ]
  },
  {
   "cell_type": "code",
   "execution_count": 60,
   "id": "7ad82208",
   "metadata": {},
   "outputs": [
    {
     "data": {
      "text/plain": [
       "0.7291666666666666"
      ]
     },
     "execution_count": 60,
     "metadata": {},
     "output_type": "execute_result"
    }
   ],
   "source": [
    "model.score(x_test, y_test)"
   ]
  },
  {
   "cell_type": "markdown",
   "id": "51c9a842",
   "metadata": {},
   "source": [
    "### 새로운 값으로 예측"
   ]
  },
  {
   "cell_type": "code",
   "execution_count": 65,
   "id": "19ef7c0f",
   "metadata": {},
   "outputs": [],
   "source": [
    "x_test = [['Male', 'Yes', '0', 'Graduate', 'No', 14583, 0, 436, 360, 1,'Semiurban']]\n",
    "x_test = pd.DataFrame(x_test, columns =  ['Gender', 'Married', 'Dependents', 'Education', 'Self_Employed', 'ApplicantIncome', \n",
    "          'CoapplicantIncome', 'LoanAmount', 'Loan_Amount_Term', 'Credit_History', 'Property_Area'])\n",
    "x_test = transformer.transform(x_test)"
   ]
  },
  {
   "cell_type": "code",
   "execution_count": 66,
   "id": "fe440a13",
   "metadata": {},
   "outputs": [],
   "source": [
    "y_predict = model.predict(x_test)"
   ]
  },
  {
   "cell_type": "code",
   "execution_count": 70,
   "id": "af08eaab",
   "metadata": {},
   "outputs": [
    {
     "data": {
      "text/plain": [
       "'승인'"
      ]
     },
     "execution_count": 70,
     "metadata": {},
     "output_type": "execute_result"
    }
   ],
   "source": [
    "labels[y_predict[0]]"
   ]
  },
  {
   "cell_type": "code",
   "execution_count": null,
   "id": "f5ea2264",
   "metadata": {},
   "outputs": [],
   "source": []
  }
 ],
 "metadata": {
  "kernelspec": {
   "display_name": "Python 3 (ipykernel)",
   "language": "python",
   "name": "python3"
  },
  "language_info": {
   "codemirror_mode": {
    "name": "ipython",
    "version": 3
   },
   "file_extension": ".py",
   "mimetype": "text/x-python",
   "name": "python",
   "nbconvert_exporter": "python",
   "pygments_lexer": "ipython3",
   "version": "3.9.12"
  }
 },
 "nbformat": 4,
 "nbformat_minor": 5
}
