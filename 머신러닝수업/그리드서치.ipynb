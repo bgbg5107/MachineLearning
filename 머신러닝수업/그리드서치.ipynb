{
 "cells": [
  {
   "cell_type": "markdown",
   "id": "ffc18fd4",
   "metadata": {},
   "source": [
    "#### 1. iris 데이터를 활용하여 그리드서치 적용\n",
    "- 그리드서치는 교차검증을 동시에 수행"
   ]
  },
  {
   "cell_type": "code",
   "execution_count": 1,
   "id": "bad89dd9",
   "metadata": {},
   "outputs": [],
   "source": [
    "from sklearn.datasets import load_iris\n",
    "from sklearn.neighbors import KNeighborsClassifier\n",
    "from sklearn.tree import DecisionTreeClassifier\n",
    "from sklearn.model_selection import train_test_split\n",
    "from sklearn.model_selection import GridSearchCV"
   ]
  },
  {
   "cell_type": "code",
   "execution_count": 2,
   "id": "142a342e",
   "metadata": {},
   "outputs": [],
   "source": [
    "iris = load_iris()"
   ]
  },
  {
   "cell_type": "code",
   "execution_count": 4,
   "id": "bfde9b96",
   "metadata": {},
   "outputs": [],
   "source": [
    "x_train, x_test, y_train, y_test = train_test_split(iris.data, iris.target, test_size=0.3, random_state=0)"
   ]
  },
  {
   "cell_type": "code",
   "execution_count": 9,
   "id": "360b3ea5",
   "metadata": {},
   "outputs": [
    {
     "name": "stdout",
     "output_type": "stream",
     "text": [
      "(105, 4)\n",
      "(105,)\n"
     ]
    }
   ],
   "source": [
    "print(x_train.shape)\n",
    "print(y_train.shape)"
   ]
  },
  {
   "cell_type": "code",
   "execution_count": 8,
   "id": "af4adcca",
   "metadata": {},
   "outputs": [
    {
     "name": "stdout",
     "output_type": "stream",
     "text": [
      "(45, 4)\n",
      "(45,)\n"
     ]
    }
   ],
   "source": [
    "print(x_test.shape)\n",
    "print(y_test.shape)"
   ]
  },
  {
   "cell_type": "markdown",
   "id": "e89a02e8",
   "metadata": {},
   "source": [
    "### KNN 그리드 적용"
   ]
  },
  {
   "cell_type": "code",
   "execution_count": 12,
   "id": "0b27d1d1",
   "metadata": {},
   "outputs": [],
   "source": [
    "param_knn = {'n_neighbors':range(1,10)} #knn 범위"
   ]
  },
  {
   "cell_type": "code",
   "execution_count": 13,
   "id": "33b27478",
   "metadata": {},
   "outputs": [],
   "source": [
    "knn = GridSearchCV(KNeighborsClassifier(), #모델\n",
    "                   param_knn,              #파라미터 범위  \n",
    "                   cv=10)                  #교차검증 수"
   ]
  },
  {
   "cell_type": "code",
   "execution_count": 14,
   "id": "343fa707",
   "metadata": {},
   "outputs": [
    {
     "data": {
      "text/plain": [
       "GridSearchCV(cv=10, estimator=KNeighborsClassifier(),\n",
       "             param_grid={'n_neighbors': range(1, 10)})"
      ]
     },
     "execution_count": 14,
     "metadata": {},
     "output_type": "execute_result"
    }
   ],
   "source": [
    "knn.fit(x_train, y_train)  #모델학습"
   ]
  },
  {
   "cell_type": "code",
   "execution_count": 15,
   "id": "2187bc57",
   "metadata": {},
   "outputs": [
    {
     "name": "stdout",
     "output_type": "stream",
     "text": [
      "최적의 파라미터 : {'n_neighbors': 6}\n"
     ]
    }
   ],
   "source": [
    "print('최적의 파라미터 :', knn.best_params_)"
   ]
  },
  {
   "cell_type": "code",
   "execution_count": 16,
   "id": "6d54cacb",
   "metadata": {},
   "outputs": [
    {
     "name": "stdout",
     "output_type": "stream",
     "text": [
      "최고 교차검증 점수 : 0.9609090909090909\n"
     ]
    }
   ],
   "source": [
    "print('최고 교차검증 점수 :', knn.best_score_)"
   ]
  },
  {
   "cell_type": "code",
   "execution_count": 17,
   "id": "c185ca6c",
   "metadata": {},
   "outputs": [
    {
     "name": "stdout",
     "output_type": "stream",
     "text": [
      "최고 성능 모델 : KNeighborsClassifier(n_neighbors=6)\n"
     ]
    }
   ],
   "source": [
    "print('최고 성능 모델 :', knn.best_estimator_)"
   ]
  },
  {
   "cell_type": "code",
   "execution_count": 18,
   "id": "db408802",
   "metadata": {},
   "outputs": [
    {
     "data": {
      "text/plain": [
       "array([2, 1, 0, 2, 0, 2, 0, 1, 1, 1, 2, 1, 1, 1, 1, 0, 1, 1, 0, 0, 2, 1,\n",
       "       0, 0, 2, 0, 0, 1, 1, 0, 2, 1, 0, 2, 2, 1, 0, 2, 1, 1, 2, 0, 2, 0,\n",
       "       0])"
      ]
     },
     "execution_count": 18,
     "metadata": {},
     "output_type": "execute_result"
    }
   ],
   "source": [
    "knn.predict(x_test) #예측"
   ]
  },
  {
   "cell_type": "code",
   "execution_count": 19,
   "id": "5d7965c4",
   "metadata": {},
   "outputs": [
    {
     "data": {
      "text/plain": [
       "0.9777777777777777"
      ]
     },
     "execution_count": 19,
     "metadata": {},
     "output_type": "execute_result"
    }
   ],
   "source": [
    "knn.score(x_test, y_test) "
   ]
  },
  {
   "cell_type": "markdown",
   "id": "6a87c573",
   "metadata": {},
   "source": [
    "### Decision Tree"
   ]
  },
  {
   "cell_type": "code",
   "execution_count": 34,
   "id": "44815613",
   "metadata": {},
   "outputs": [],
   "source": [
    "param_df = {'max_depth':range(1,10), #parameter를 딕셔너리형태로 정의(다 넣어보고 최적의 파라미터 찾기위해 범위설정)\n",
    "           'max_leaf_nodes':range(1,10),\n",
    "           'min_samples_leaf':range(1,10)}"
   ]
  },
  {
   "cell_type": "code",
   "execution_count": 35,
   "id": "bb2e5275",
   "metadata": {},
   "outputs": [],
   "source": [
    "dt = GridSearchCV(DecisionTreeClassifier(), param_df, cv=10) #decision tree, cv(교차검증 갯수)"
   ]
  },
  {
   "cell_type": "code",
   "execution_count": 36,
   "id": "9e618ecf",
   "metadata": {
    "collapsed": true
   },
   "outputs": [
    {
     "name": "stderr",
     "output_type": "stream",
     "text": [
      "C:\\Users\\user\\anaconda3\\lib\\site-packages\\sklearn\\model_selection\\_validation.py:372: FitFailedWarning: \n",
      "810 fits failed out of a total of 7290.\n",
      "The score on these train-test partitions for these parameters will be set to nan.\n",
      "If these failures are not expected, you can try to debug them by setting error_score='raise'.\n",
      "\n",
      "Below are more details about the failures:\n",
      "--------------------------------------------------------------------------------\n",
      "810 fits failed with the following error:\n",
      "Traceback (most recent call last):\n",
      "  File \"C:\\Users\\user\\anaconda3\\lib\\site-packages\\sklearn\\model_selection\\_validation.py\", line 680, in _fit_and_score\n",
      "    estimator.fit(X_train, y_train, **fit_params)\n",
      "  File \"C:\\Users\\user\\anaconda3\\lib\\site-packages\\sklearn\\tree\\_classes.py\", line 937, in fit\n",
      "    super().fit(\n",
      "  File \"C:\\Users\\user\\anaconda3\\lib\\site-packages\\sklearn\\tree\\_classes.py\", line 314, in fit\n",
      "    raise ValueError(\n",
      "ValueError: max_leaf_nodes 1 must be either None or larger than 1\n",
      "\n",
      "  warnings.warn(some_fits_failed_message, FitFailedWarning)\n",
      "C:\\Users\\user\\anaconda3\\lib\\site-packages\\sklearn\\model_selection\\_search.py:969: UserWarning: One or more of the test scores are non-finite: [       nan        nan        nan        nan        nan        nan\n",
      "        nan        nan        nan 0.69545455 0.69545455 0.69545455\n",
      " 0.69545455 0.69545455 0.69545455 0.69545455 0.69545455 0.69545455\n",
      " 0.69545455 0.69545455 0.69545455 0.69545455 0.69545455 0.69545455\n",
      " 0.69545455 0.69545455 0.69545455 0.69545455 0.69545455 0.69545455\n",
      " 0.69545455 0.69545455 0.69545455 0.69545455 0.69545455 0.69545455\n",
      " 0.69545455 0.69545455 0.69545455 0.69545455 0.69545455 0.69545455\n",
      " 0.69545455 0.69545455 0.69545455 0.69545455 0.69545455 0.69545455\n",
      " 0.69545455 0.69545455 0.69545455 0.69545455 0.69545455 0.69545455\n",
      " 0.69545455 0.69545455 0.69545455 0.69545455 0.69545455 0.69545455\n",
      " 0.69545455 0.69545455 0.69545455 0.69545455 0.69545455 0.69545455\n",
      " 0.69545455 0.69545455 0.69545455 0.69545455 0.69545455 0.69545455\n",
      " 0.69545455 0.69545455 0.69545455 0.69545455 0.69545455 0.69545455\n",
      " 0.69545455 0.69545455 0.69545455        nan        nan        nan\n",
      "        nan        nan        nan        nan        nan        nan\n",
      " 0.69545455 0.69545455 0.69545455 0.69545455 0.69545455 0.69545455\n",
      " 0.69545455 0.69545455 0.69545455 0.94272727 0.94181818 0.93272727\n",
      " 0.94181818 0.94272727 0.95181818 0.93272727 0.94272727 0.94181818\n",
      " 0.94272727 0.94272727 0.93272727 0.94181818 0.95181818 0.94272727\n",
      " 0.93272727 0.93272727 0.95181818 0.93272727 0.93272727 0.95181818\n",
      " 0.93272727 0.93272727 0.93272727 0.93272727 0.93272727 0.95181818\n",
      " 0.95181818 0.94272727 0.94181818 0.95181818 0.94181818 0.94272727\n",
      " 0.94181818 0.94272727 0.93272727 0.94181818 0.94181818 0.95181818\n",
      " 0.94181818 0.95181818 0.94181818 0.94272727 0.93272727 0.94181818\n",
      " 0.94181818 0.94181818 0.93272727 0.94272727 0.95181818 0.93272727\n",
      " 0.95181818 0.94181818 0.93272727 0.94181818 0.94272727 0.94181818\n",
      " 0.93272727 0.93272727 0.94181818 0.95181818 0.94181818 0.94272727\n",
      "        nan        nan        nan        nan        nan        nan\n",
      "        nan        nan        nan 0.69545455 0.69545455 0.69545455\n",
      " 0.69545455 0.69545455 0.69545455 0.69545455 0.69545455 0.69545455\n",
      " 0.95181818 0.93272727 0.93272727 0.95181818 0.94272727 0.93272727\n",
      " 0.94181818 0.94181818 0.94272727 0.98       0.98       0.98\n",
      " 0.95181818 0.93272727 0.95181818 0.93272727 0.94181818 0.94181818\n",
      " 0.98       0.98       0.98       0.95181818 0.94272727 0.94272727\n",
      " 0.94272727 0.95181818 0.95181818 0.98       0.98       0.98\n",
      " 0.94181818 0.93272727 0.93272727 0.93272727 0.94181818 0.94181818\n",
      " 0.97090909 0.97090909 0.98       0.94181818 0.93272727 0.94181818\n",
      " 0.94181818 0.93272727 0.93272727 0.98       0.97090909 0.98\n",
      " 0.94181818 0.93272727 0.94272727 0.93272727 0.94181818 0.95181818\n",
      " 0.98       0.97090909 0.98       0.95181818 0.93272727 0.93272727\n",
      " 0.94272727 0.93272727 0.95181818        nan        nan        nan\n",
      "        nan        nan        nan        nan        nan        nan\n",
      " 0.69545455 0.69545455 0.69545455 0.69545455 0.69545455 0.69545455\n",
      " 0.69545455 0.69545455 0.69545455 0.95181818 0.94181818 0.94272727\n",
      " 0.93272727 0.93272727 0.93272727 0.93272727 0.95181818 0.94181818\n",
      " 0.97090909 0.97090909 0.98       0.95181818 0.93272727 0.95181818\n",
      " 0.95181818 0.94272727 0.93272727 0.97       0.98       0.98\n",
      " 0.94272727 0.94272727 0.95181818 0.94181818 0.93272727 0.94181818\n",
      " 0.96090909 0.97090909 0.98       0.94272727 0.94272727 0.95181818\n",
      " 0.95181818 0.94181818 0.95181818 0.94181818 0.97090909 0.98\n",
      " 0.94272727 0.94272727 0.93272727 0.94181818 0.93272727 0.94272727\n",
      " 0.95181818 0.97090909 0.98       0.93272727 0.93272727 0.94272727\n",
      " 0.93272727 0.93272727 0.95181818 0.95181818 0.98       0.98\n",
      " 0.93272727 0.94272727 0.93272727 0.93272727 0.95181818 0.94181818\n",
      "        nan        nan        nan        nan        nan        nan\n",
      "        nan        nan        nan 0.69545455 0.69545455 0.69545455\n",
      " 0.69545455 0.69545455 0.69545455 0.69545455 0.69545455 0.69545455\n",
      " 0.93272727 0.93272727 0.94272727 0.95181818 0.95181818 0.94272727\n",
      " 0.94181818 0.93272727 0.93272727 0.98       0.98       0.98\n",
      " 0.94181818 0.93272727 0.94272727 0.95181818 0.94272727 0.93272727\n",
      " 0.96090909 0.98       0.98       0.93272727 0.94272727 0.94181818\n",
      " 0.94181818 0.94181818 0.95181818 0.96090909 0.98       0.98\n",
      " 0.95181818 0.93272727 0.94181818 0.93272727 0.93272727 0.93272727\n",
      " 0.97       0.97090909 0.98       0.95181818 0.93272727 0.94181818\n",
      " 0.94181818 0.93272727 0.94181818 0.95090909 0.98       0.98\n",
      " 0.95181818 0.94272727 0.94181818 0.94272727 0.93272727 0.94272727\n",
      " 0.95090909 0.97090909 0.98       0.95181818 0.93272727 0.95181818\n",
      " 0.94181818 0.95181818 0.94272727        nan        nan        nan\n",
      "        nan        nan        nan        nan        nan        nan\n",
      " 0.69545455 0.69545455 0.69545455 0.69545455 0.69545455 0.69545455\n",
      " 0.69545455 0.69545455 0.69545455 0.95181818 0.94272727 0.94272727\n",
      " 0.93272727 0.93272727 0.93272727 0.93272727 0.94272727 0.93272727\n",
      " 0.97090909 0.97090909 0.98       0.94181818 0.93272727 0.93272727\n",
      " 0.93272727 0.95181818 0.94181818 0.96090909 0.98       0.98\n",
      " 0.93272727 0.94272727 0.94181818 0.95181818 0.94181818 0.93272727\n",
      " 0.96090909 0.98       0.98       0.93272727 0.93272727 0.95181818\n",
      " 0.94181818 0.94181818 0.93272727 0.96       0.98       0.98\n",
      " 0.93272727 0.93272727 0.93272727 0.94272727 0.94181818 0.93272727\n",
      " 0.95090909 0.97090909 0.98       0.93272727 0.94272727 0.94272727\n",
      " 0.94181818 0.95181818 0.93272727 0.95090909 0.98       0.98\n",
      " 0.95181818 0.94272727 0.94181818 0.93272727 0.94272727 0.94181818\n",
      "        nan        nan        nan        nan        nan        nan\n",
      "        nan        nan        nan 0.69545455 0.69545455 0.69545455\n",
      " 0.69545455 0.69545455 0.69545455 0.69545455 0.69545455 0.69545455\n",
      " 0.93272727 0.93272727 0.95181818 0.94181818 0.93272727 0.94272727\n",
      " 0.94272727 0.93272727 0.94181818 0.98       0.98       0.98\n",
      " 0.93272727 0.94272727 0.93272727 0.94272727 0.94272727 0.95181818\n",
      " 0.97       0.97090909 0.98       0.95181818 0.93272727 0.95181818\n",
      " 0.93272727 0.94272727 0.95181818 0.96090909 0.98       0.98\n",
      " 0.93272727 0.94272727 0.94181818 0.94272727 0.94181818 0.95181818\n",
      " 0.95090909 0.98       0.98       0.93272727 0.94272727 0.95181818\n",
      " 0.95181818 0.94272727 0.94272727 0.95090909 0.98       0.98\n",
      " 0.94181818 0.93272727 0.94181818 0.94272727 0.94272727 0.94272727\n",
      " 0.95090909 0.97090909 0.98       0.95181818 0.94272727 0.95181818\n",
      " 0.94272727 0.94181818 0.95181818        nan        nan        nan\n",
      "        nan        nan        nan        nan        nan        nan\n",
      " 0.69545455 0.69545455 0.69545455 0.69545455 0.69545455 0.69545455\n",
      " 0.69545455 0.69545455 0.69545455 0.95181818 0.93272727 0.95181818\n",
      " 0.93272727 0.93272727 0.95181818 0.95181818 0.94181818 0.93272727\n",
      " 0.98       0.97090909 0.98       0.94272727 0.93272727 0.95181818\n",
      " 0.94272727 0.95181818 0.95181818 0.95181818 0.98       0.98\n",
      " 0.94181818 0.94272727 0.94181818 0.93272727 0.94181818 0.94181818\n",
      " 0.96090909 0.98       0.98       0.95181818 0.94272727 0.93272727\n",
      " 0.95181818 0.95181818 0.93272727 0.95090909 0.97090909 0.98\n",
      " 0.93272727 0.93272727 0.94272727 0.93272727 0.94181818 0.94181818\n",
      " 0.96       0.98       0.98       0.94181818 0.93272727 0.94181818\n",
      " 0.95181818 0.95181818 0.93272727 0.95090909 0.97090909 0.98\n",
      " 0.95181818 0.94272727 0.93272727 0.95181818 0.94272727 0.94181818\n",
      "        nan        nan        nan        nan        nan        nan\n",
      "        nan        nan        nan 0.69545455 0.69545455 0.69545455\n",
      " 0.69545455 0.69545455 0.69545455 0.69545455 0.69545455 0.69545455\n",
      " 0.94272727 0.94272727 0.94181818 0.94272727 0.94181818 0.93272727\n",
      " 0.93272727 0.94272727 0.93272727 0.98       0.97090909 0.98\n",
      " 0.93272727 0.93272727 0.94181818 0.95181818 0.95181818 0.94272727\n",
      " 0.97       0.97090909 0.98       0.95181818 0.94272727 0.94272727\n",
      " 0.94272727 0.94272727 0.94181818 0.96090909 0.98       0.98\n",
      " 0.94181818 0.94272727 0.93272727 0.93272727 0.93272727 0.95181818\n",
      " 0.95090909 0.97090909 0.98       0.94181818 0.93272727 0.95181818\n",
      " 0.94272727 0.94181818 0.93272727 0.95181818 0.98       0.98\n",
      " 0.93272727 0.94272727 0.94272727 0.93272727 0.94272727 0.95181818\n",
      " 0.95090909 0.98       0.98       0.94272727 0.93272727 0.95181818\n",
      " 0.94181818 0.95181818 0.94272727]\n",
      "  warnings.warn(\n"
     ]
    },
    {
     "data": {
      "text/plain": [
       "GridSearchCV(cv=10, estimator=DecisionTreeClassifier(),\n",
       "             param_grid={'max_depth': range(1, 10),\n",
       "                         'max_leaf_nodes': range(1, 10),\n",
       "                         'min_samples_leaf': range(1, 10)})"
      ]
     },
     "execution_count": 36,
     "metadata": {},
     "output_type": "execute_result"
    }
   ],
   "source": [
    "dt.fit(x_train, y_train) "
   ]
  },
  {
   "cell_type": "code",
   "execution_count": 44,
   "id": "cfbd5021",
   "metadata": {},
   "outputs": [
    {
     "name": "stdout",
     "output_type": "stream",
     "text": [
      "최적의 파라미터 : {'max_depth': 3, 'max_leaf_nodes': 4, 'min_samples_leaf': 1}\n"
     ]
    }
   ],
   "source": [
    "print('최적의 파라미터 :', dt.best_params_)"
   ]
  },
  {
   "cell_type": "code",
   "execution_count": 45,
   "id": "e6b120a8",
   "metadata": {},
   "outputs": [
    {
     "name": "stdout",
     "output_type": "stream",
     "text": [
      "최고 교차검증 점수 : 0.9800000000000001\n"
     ]
    }
   ],
   "source": [
    "print('최고 교차검증 점수 :', dt.best_score_)"
   ]
  },
  {
   "cell_type": "code",
   "execution_count": 43,
   "id": "429efe13",
   "metadata": {},
   "outputs": [
    {
     "name": "stdout",
     "output_type": "stream",
     "text": [
      "(105, 4)\n",
      "(105,)\n"
     ]
    }
   ],
   "source": [
    "print(x_train.shape)\n",
    "print(y_train.shape)"
   ]
  },
  {
   "cell_type": "code",
   "execution_count": 40,
   "id": "ee68b927",
   "metadata": {},
   "outputs": [
    {
     "data": {
      "text/plain": [
       "array([2, 1, 0, 2, 0, 2, 0, 1, 1, 1, 2, 1, 1, 1, 1, 0, 1, 1, 0, 0, 2, 1,\n",
       "       0, 0, 2, 0, 0, 1, 1, 0, 2, 1, 0, 2, 2, 1, 0, 2, 1, 1, 2, 0, 2, 0,\n",
       "       0])"
      ]
     },
     "execution_count": 40,
     "metadata": {},
     "output_type": "execute_result"
    }
   ],
   "source": [
    "dt.predict(x_test)"
   ]
  },
  {
   "cell_type": "code",
   "execution_count": 42,
   "id": "e80397f5",
   "metadata": {},
   "outputs": [
    {
     "data": {
      "text/plain": [
       "0.9777777777777777"
      ]
     },
     "execution_count": 42,
     "metadata": {},
     "output_type": "execute_result"
    }
   ],
   "source": [
    "dt.score(x_test, y_test)"
   ]
  },
  {
   "cell_type": "code",
   "execution_count": null,
   "id": "f6741e98",
   "metadata": {},
   "outputs": [],
   "source": []
  }
 ],
 "metadata": {
  "kernelspec": {
   "display_name": "Python 3 (ipykernel)",
   "language": "python",
   "name": "python3"
  },
  "language_info": {
   "codemirror_mode": {
    "name": "ipython",
    "version": 3
   },
   "file_extension": ".py",
   "mimetype": "text/x-python",
   "name": "python",
   "nbconvert_exporter": "python",
   "pygments_lexer": "ipython3",
   "version": "3.9.12"
  }
 },
 "nbformat": 4,
 "nbformat_minor": 5
}
