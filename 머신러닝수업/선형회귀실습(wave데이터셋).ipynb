{
 "cells": [
  {
   "cell_type": "code",
   "execution_count": 1,
   "id": "2a352c1a",
   "metadata": {},
   "outputs": [],
   "source": [
    "import mglearn\n",
    "from sklearn.linear_model import LinearRegression\n",
    "from sklearn.model_selection import train_test_split"
   ]
  },
  {
   "cell_type": "code",
   "execution_count": 4,
   "id": "5f79683a",
   "metadata": {},
   "outputs": [],
   "source": [
    "x, y = mglearn.datasets.make_wave(n_samples=60)"
   ]
  },
  {
   "cell_type": "code",
   "execution_count": 5,
   "id": "b4b63cf7",
   "metadata": {},
   "outputs": [],
   "source": [
    "x_train, x_test, y_train, y_test = train_test_split(x,y,random_state=0)"
   ]
  },
  {
   "cell_type": "code",
   "execution_count": 6,
   "id": "075c1380",
   "metadata": {},
   "outputs": [],
   "source": [
    "lr = LinearRegression()"
   ]
  },
  {
   "cell_type": "code",
   "execution_count": 7,
   "id": "3c8e4c34",
   "metadata": {},
   "outputs": [
    {
     "data": {
      "text/html": [
       "<style>#sk-container-id-1 {color: black;background-color: white;}#sk-container-id-1 pre{padding: 0;}#sk-container-id-1 div.sk-toggleable {background-color: white;}#sk-container-id-1 label.sk-toggleable__label {cursor: pointer;display: block;width: 100%;margin-bottom: 0;padding: 0.3em;box-sizing: border-box;text-align: center;}#sk-container-id-1 label.sk-toggleable__label-arrow:before {content: \"▸\";float: left;margin-right: 0.25em;color: #696969;}#sk-container-id-1 label.sk-toggleable__label-arrow:hover:before {color: black;}#sk-container-id-1 div.sk-estimator:hover label.sk-toggleable__label-arrow:before {color: black;}#sk-container-id-1 div.sk-toggleable__content {max-height: 0;max-width: 0;overflow: hidden;text-align: left;background-color: #f0f8ff;}#sk-container-id-1 div.sk-toggleable__content pre {margin: 0.2em;color: black;border-radius: 0.25em;background-color: #f0f8ff;}#sk-container-id-1 input.sk-toggleable__control:checked~div.sk-toggleable__content {max-height: 200px;max-width: 100%;overflow: auto;}#sk-container-id-1 input.sk-toggleable__control:checked~label.sk-toggleable__label-arrow:before {content: \"▾\";}#sk-container-id-1 div.sk-estimator input.sk-toggleable__control:checked~label.sk-toggleable__label {background-color: #d4ebff;}#sk-container-id-1 div.sk-label input.sk-toggleable__control:checked~label.sk-toggleable__label {background-color: #d4ebff;}#sk-container-id-1 input.sk-hidden--visually {border: 0;clip: rect(1px 1px 1px 1px);clip: rect(1px, 1px, 1px, 1px);height: 1px;margin: -1px;overflow: hidden;padding: 0;position: absolute;width: 1px;}#sk-container-id-1 div.sk-estimator {font-family: monospace;background-color: #f0f8ff;border: 1px dotted black;border-radius: 0.25em;box-sizing: border-box;margin-bottom: 0.5em;}#sk-container-id-1 div.sk-estimator:hover {background-color: #d4ebff;}#sk-container-id-1 div.sk-parallel-item::after {content: \"\";width: 100%;border-bottom: 1px solid gray;flex-grow: 1;}#sk-container-id-1 div.sk-label:hover label.sk-toggleable__label {background-color: #d4ebff;}#sk-container-id-1 div.sk-serial::before {content: \"\";position: absolute;border-left: 1px solid gray;box-sizing: border-box;top: 0;bottom: 0;left: 50%;z-index: 0;}#sk-container-id-1 div.sk-serial {display: flex;flex-direction: column;align-items: center;background-color: white;padding-right: 0.2em;padding-left: 0.2em;position: relative;}#sk-container-id-1 div.sk-item {position: relative;z-index: 1;}#sk-container-id-1 div.sk-parallel {display: flex;align-items: stretch;justify-content: center;background-color: white;position: relative;}#sk-container-id-1 div.sk-item::before, #sk-container-id-1 div.sk-parallel-item::before {content: \"\";position: absolute;border-left: 1px solid gray;box-sizing: border-box;top: 0;bottom: 0;left: 50%;z-index: -1;}#sk-container-id-1 div.sk-parallel-item {display: flex;flex-direction: column;z-index: 1;position: relative;background-color: white;}#sk-container-id-1 div.sk-parallel-item:first-child::after {align-self: flex-end;width: 50%;}#sk-container-id-1 div.sk-parallel-item:last-child::after {align-self: flex-start;width: 50%;}#sk-container-id-1 div.sk-parallel-item:only-child::after {width: 0;}#sk-container-id-1 div.sk-dashed-wrapped {border: 1px dashed gray;margin: 0 0.4em 0.5em 0.4em;box-sizing: border-box;padding-bottom: 0.4em;background-color: white;}#sk-container-id-1 div.sk-label label {font-family: monospace;font-weight: bold;display: inline-block;line-height: 1.2em;}#sk-container-id-1 div.sk-label-container {text-align: center;}#sk-container-id-1 div.sk-container {/* jupyter's `normalize.less` sets `[hidden] { display: none; }` but bootstrap.min.css set `[hidden] { display: none !important; }` so we also need the `!important` here to be able to override the default hidden behavior on the sphinx rendered scikit-learn.org. See: https://github.com/scikit-learn/scikit-learn/issues/21755 */display: inline-block !important;position: relative;}#sk-container-id-1 div.sk-text-repr-fallback {display: none;}</style><div id=\"sk-container-id-1\" class=\"sk-top-container\"><div class=\"sk-text-repr-fallback\"><pre>LinearRegression()</pre><b>In a Jupyter environment, please rerun this cell to show the HTML representation or trust the notebook. <br />On GitHub, the HTML representation is unable to render, please try loading this page with nbviewer.org.</b></div><div class=\"sk-container\" hidden><div class=\"sk-item\"><div class=\"sk-estimator sk-toggleable\"><input class=\"sk-toggleable__control sk-hidden--visually\" id=\"sk-estimator-id-1\" type=\"checkbox\" checked><label for=\"sk-estimator-id-1\" class=\"sk-toggleable__label sk-toggleable__label-arrow\">LinearRegression</label><div class=\"sk-toggleable__content\"><pre>LinearRegression()</pre></div></div></div></div></div>"
      ],
      "text/plain": [
       "LinearRegression()"
      ]
     },
     "execution_count": 7,
     "metadata": {},
     "output_type": "execute_result"
    }
   ],
   "source": [
    "lr.fit(x_train, y_train)"
   ]
  },
  {
   "cell_type": "code",
   "execution_count": 9,
   "id": "b4566e7f",
   "metadata": {},
   "outputs": [
    {
     "data": {
      "text/plain": [
       "array([0.44153666])"
      ]
     },
     "execution_count": 9,
     "metadata": {},
     "output_type": "execute_result"
    }
   ],
   "source": [
    "lr.coef_"
   ]
  },
  {
   "cell_type": "code",
   "execution_count": 10,
   "id": "640553b2",
   "metadata": {},
   "outputs": [
    {
     "data": {
      "text/plain": [
       "-0.01711124414733381"
      ]
     },
     "execution_count": 10,
     "metadata": {},
     "output_type": "execute_result"
    }
   ],
   "source": [
    "lr.intercept_"
   ]
  },
  {
   "cell_type": "code",
   "execution_count": 11,
   "id": "ee699046",
   "metadata": {},
   "outputs": [],
   "source": [
    "### y = 0.4415x -0.01711\n",
    "train = lr.score(x_train, y_train)\n",
    "test = lr.score(x_test,y_test) #r^2(상관계수) 값"
   ]
  },
  {
   "cell_type": "code",
   "execution_count": 12,
   "id": "472b18d4",
   "metadata": {},
   "outputs": [
    {
     "name": "stdout",
     "output_type": "stream",
     "text": [
      "훈련 데이터 점수: 0.6592061059587275\n",
      "테스트 데이터 점수: 0.6932519118518163\n"
     ]
    }
   ],
   "source": [
    "print('훈련 데이터 점수:',train)\n",
    "print('테스트 데이터 점수:',test)"
   ]
  },
  {
   "cell_type": "code",
   "execution_count": null,
   "id": "40b77f9b",
   "metadata": {},
   "outputs": [],
   "source": []
  },
  {
   "cell_type": "code",
   "execution_count": null,
   "id": "a0a05902",
   "metadata": {},
   "outputs": [],
   "source": []
  },
  {
   "cell_type": "markdown",
   "id": "e3606a23",
   "metadata": {},
   "source": [
    "### 보스턴 주택가격 - 선형회귀"
   ]
  },
  {
   "cell_type": "code",
   "execution_count": 15,
   "id": "f46ba5c6",
   "metadata": {},
   "outputs": [],
   "source": [
    "import warnings #데이터불러올때 warning 안보이게\n",
    "warnings.filterwarnings('ignore', category=FutureWarning)"
   ]
  },
  {
   "cell_type": "code",
   "execution_count": 16,
   "id": "acdba146",
   "metadata": {},
   "outputs": [],
   "source": [
    "x,y = mglearn.datasets.load_extended_boston()"
   ]
  },
  {
   "cell_type": "code",
   "execution_count": 17,
   "id": "505902dd",
   "metadata": {},
   "outputs": [],
   "source": [
    "x_train, x_test,y_train,y_test = train_test_split(x,y,test_size=0.2,random_state=0)"
   ]
  },
  {
   "cell_type": "code",
   "execution_count": 18,
   "id": "c073ed71",
   "metadata": {},
   "outputs": [],
   "source": [
    "lr = LinearRegression().fit(x_train,y_train)"
   ]
  },
  {
   "cell_type": "code",
   "execution_count": 19,
   "id": "9bed32cb",
   "metadata": {},
   "outputs": [],
   "source": [
    "train = lr.score(x_train, y_train) #점수저장\n",
    "test = lr.score(x_test,y_test)"
   ]
  },
  {
   "cell_type": "code",
   "execution_count": 21,
   "id": "ffc664d1",
   "metadata": {},
   "outputs": [
    {
     "name": "stdout",
     "output_type": "stream",
     "text": [
      "훈련 세트 점수: 0.9490240966612832\n",
      "테스트 세트 점수: 0.615885858407885\n"
     ]
    }
   ],
   "source": [
    "print('훈련 세트 점수:',train) #과대적합\n",
    "print('테스트 세트 점수:',test)"
   ]
  },
  {
   "cell_type": "markdown",
   "id": "f086119e",
   "metadata": {},
   "source": [
    "#### 릿지 회귀"
   ]
  },
  {
   "cell_type": "code",
   "execution_count": 22,
   "id": "d40f1017",
   "metadata": {},
   "outputs": [],
   "source": [
    "from sklearn.linear_model import Ridge"
   ]
  },
  {
   "cell_type": "code",
   "execution_count": 23,
   "id": "56e9f036",
   "metadata": {},
   "outputs": [],
   "source": [
    "ridge = Ridge().fit(x_train, y_train) #기본 하이퍼파라미터값 설정"
   ]
  },
  {
   "cell_type": "code",
   "execution_count": 24,
   "id": "524b12d6",
   "metadata": {},
   "outputs": [],
   "source": [
    "train = ridge.score(x_train, y_train)\n",
    "test = ridge.score(x_test, y_test)"
   ]
  },
  {
   "cell_type": "code",
   "execution_count": 27,
   "id": "c8aa5509",
   "metadata": {},
   "outputs": [
    {
     "name": "stdout",
     "output_type": "stream",
     "text": [
      "훈련 세트 점수: 0.8858089292103583\n",
      "테스트 세트 점수: 0.7214499108060967\n"
     ]
    }
   ],
   "source": [
    "print('훈련 세트 점수:',train)\n",
    "print('테스트 세트 점수:',test)"
   ]
  },
  {
   "cell_type": "code",
   "execution_count": null,
   "id": "95bc3f0e",
   "metadata": {},
   "outputs": [],
   "source": []
  },
  {
   "cell_type": "code",
   "execution_count": 33,
   "id": "e226b782",
   "metadata": {},
   "outputs": [],
   "source": [
    "ridge10 = Ridge(alpha = 10).fit(x_train, y_train) #알파값에 10(규제를 크게)"
   ]
  },
  {
   "cell_type": "code",
   "execution_count": 34,
   "id": "e971448a",
   "metadata": {},
   "outputs": [],
   "source": [
    "train10 = ridge10.score(x_train, y_train)\n",
    "test10 = ridge10.score(x_test, y_test)"
   ]
  },
  {
   "cell_type": "code",
   "execution_count": 36,
   "id": "d5413157",
   "metadata": {},
   "outputs": [
    {
     "name": "stdout",
     "output_type": "stream",
     "text": [
      "훈련 세트 점수: 0.7934484752213662\n",
      "테스트 세트 점수: 0.5886807784434768\n"
     ]
    }
   ],
   "source": [
    "print('훈련 세트 점수:',train10)\n",
    "print('테스트 세트 점수:',test10) #규제를 크게 줬더니 설명력 떨어짐"
   ]
  },
  {
   "cell_type": "code",
   "execution_count": null,
   "id": "4346be97",
   "metadata": {},
   "outputs": [],
   "source": []
  },
  {
   "cell_type": "code",
   "execution_count": 37,
   "id": "08bfd4fe",
   "metadata": {},
   "outputs": [],
   "source": [
    "ridge01 = Ridge(alpha=0.1).fit(x_train,y_train)"
   ]
  },
  {
   "cell_type": "code",
   "execution_count": 38,
   "id": "9dab5a1d",
   "metadata": {},
   "outputs": [],
   "source": [
    "train01 = ridge01.score(x_train, y_train)\n",
    "test01 = ridge01.score(x_test,y_test)"
   ]
  },
  {
   "cell_type": "code",
   "execution_count": 39,
   "id": "d94d7483",
   "metadata": {},
   "outputs": [
    {
     "name": "stdout",
     "output_type": "stream",
     "text": [
      "훈련 세트 점수: 0.9261926604874957\n",
      "테스트 세트 점수: 0.7463824108919292\n"
     ]
    }
   ],
   "source": [
    "print('훈련 세트 점수:',train01)\n",
    "print('테스트 세트 점수:',test01)"
   ]
  },
  {
   "cell_type": "code",
   "execution_count": null,
   "id": "457ff68d",
   "metadata": {},
   "outputs": [],
   "source": []
  },
  {
   "cell_type": "markdown",
   "id": "f9ec4916",
   "metadata": {},
   "source": [
    "#### 랏쏘"
   ]
  },
  {
   "cell_type": "code",
   "execution_count": 40,
   "id": "53501a5f",
   "metadata": {},
   "outputs": [],
   "source": [
    "import numpy as np"
   ]
  },
  {
   "cell_type": "code",
   "execution_count": 41,
   "id": "8464ed8f",
   "metadata": {},
   "outputs": [],
   "source": [
    "from sklearn.linear_model import Lasso"
   ]
  },
  {
   "cell_type": "code",
   "execution_count": 42,
   "id": "b2498f06",
   "metadata": {},
   "outputs": [],
   "source": [
    "lasso = Lasso().fit(x_train, y_train)"
   ]
  },
  {
   "cell_type": "code",
   "execution_count": 43,
   "id": "003f0a28",
   "metadata": {},
   "outputs": [],
   "source": [
    "train = lasso.score(x_train, y_train)\n",
    "test = lasso.score(x_test, y_test)"
   ]
  },
  {
   "cell_type": "code",
   "execution_count": 44,
   "id": "c479100d",
   "metadata": {},
   "outputs": [
    {
     "name": "stdout",
     "output_type": "stream",
     "text": [
      "훈련 세트 점수: 0.30173392764195583\n",
      "테스트 세트 점수: 0.18559880937915907\n"
     ]
    }
   ],
   "source": [
    "print('훈련 세트 점수:',train)\n",
    "print('테스트 세트 점수:', test)"
   ]
  },
  {
   "cell_type": "code",
   "execution_count": 45,
   "id": "150ca0a7",
   "metadata": {},
   "outputs": [
    {
     "name": "stdout",
     "output_type": "stream",
     "text": [
      "사용한 특성의 개수: 4\n"
     ]
    }
   ],
   "source": [
    "print('사용한 특성의 개수:',np.sum(lasso.coef_ != 0))"
   ]
  },
  {
   "cell_type": "code",
   "execution_count": 46,
   "id": "89ac4e5c",
   "metadata": {},
   "outputs": [],
   "source": [
    "lasso001 = Lasso(alpha=0.01, max_iter=10000).fit(x_train,y_train) #몇번을 학습할 것인지(max_iter)"
   ]
  },
  {
   "cell_type": "code",
   "execution_count": 47,
   "id": "89821349",
   "metadata": {},
   "outputs": [],
   "source": [
    "train = lasso001.score(x_train, y_train)\n",
    "test = lasso001.score(x_test, y_test)"
   ]
  },
  {
   "cell_type": "code",
   "execution_count": 48,
   "id": "52bd6d6d",
   "metadata": {},
   "outputs": [
    {
     "name": "stdout",
     "output_type": "stream",
     "text": [
      "훈련 세트 점수: 0.8940116521466668\n",
      "테스트 세트 점수: 0.7360953366341125\n"
     ]
    }
   ],
   "source": [
    "print('훈련 세트 점수:',train)\n",
    "print('테스트 세트 점수:', test)"
   ]
  },
  {
   "cell_type": "code",
   "execution_count": 49,
   "id": "bdf43ccd",
   "metadata": {},
   "outputs": [
    {
     "name": "stdout",
     "output_type": "stream",
     "text": [
      "사용한 특성의 개수: 34\n"
     ]
    }
   ],
   "source": [
    "print('사용한 특성의 개수:',np.sum(lasso001.coef_ != 0))"
   ]
  },
  {
   "cell_type": "code",
   "execution_count": 51,
   "id": "9b34c16f",
   "metadata": {},
   "outputs": [
    {
     "name": "stderr",
     "output_type": "stream",
     "text": [
      "C:\\Users\\user\\anaconda3\\envs\\orange3-\\lib\\site-packages\\sklearn\\linear_model\\_coordinate_descent.py:648: ConvergenceWarning: Objective did not converge. You might want to increase the number of iterations, check the scale of the features or consider increasing regularisation. Duality gap: 3.481e+00, tolerance: 3.440e+00\n",
      "  model = cd_fast.enet_coordinate_descent(\n"
     ]
    }
   ],
   "source": [
    "lasso0001 = Lasso(alpha=0.0001, max_iter=50000).fit(x_train, y_train)"
   ]
  },
  {
   "cell_type": "code",
   "execution_count": 52,
   "id": "f2273e22",
   "metadata": {},
   "outputs": [],
   "source": [
    "train = lasso0001.score(x_train, y_train)\n",
    "test = lasso0001.score(x_test, y_test)"
   ]
  },
  {
   "cell_type": "code",
   "execution_count": 53,
   "id": "687114a7",
   "metadata": {},
   "outputs": [
    {
     "name": "stdout",
     "output_type": "stream",
     "text": [
      "훈련 세트 점수: 0.9478035785798402\n",
      "테스트 세트 점수: 0.6453342633073322\n"
     ]
    }
   ],
   "source": [
    "print('훈련 세트 점수:',train)\n",
    "print('테스트 세트 점수:', test)"
   ]
  },
  {
   "cell_type": "code",
   "execution_count": 54,
   "id": "657dcd36",
   "metadata": {},
   "outputs": [
    {
     "name": "stdout",
     "output_type": "stream",
     "text": [
      "사용한 특성의 개수: 96\n"
     ]
    }
   ],
   "source": [
    "print('사용한 특성의 개수:',np.sum(lasso0001.coef_ != 0))"
   ]
  }
 ],
 "metadata": {
  "kernelspec": {
   "display_name": "Python 3 (ipykernel)",
   "language": "python",
   "name": "python3"
  },
  "language_info": {
   "codemirror_mode": {
    "name": "ipython",
    "version": 3
   },
   "file_extension": ".py",
   "mimetype": "text/x-python",
   "name": "python",
   "nbconvert_exporter": "python",
   "pygments_lexer": "ipython3",
   "version": "3.9.13"
  }
 },
 "nbformat": 4,
 "nbformat_minor": 5
}
